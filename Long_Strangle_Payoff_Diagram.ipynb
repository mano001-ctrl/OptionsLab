{
  "nbformat": 4,
  "nbformat_minor": 0,
  "metadata": {
    "colab": {
      "provenance": []
    },
    "kernelspec": {
      "name": "python3",
      "display_name": "Python 3"
    },
    "language_info": {
      "name": "python"
    }
  },
  "cells": [
    {
      "cell_type": "code",
      "execution_count": null,
      "metadata": {
        "id": "hG3ApS0xlo8V"
      },
      "outputs": [],
      "source": [
        "import numpy as np\n",
        "import matplotlib.pyplot as plt\n",
        "\n",
        "# Stock price range\n",
        "stock_prices = np.linspace(50, 150, 500)\n",
        "\n",
        "# Parameters\n",
        "strike_price_call = 100\n",
        "strike_price_put = 90\n",
        "premium_call = 5\n",
        "premium_put = 5\n",
        "\n",
        "# Payoff calculations\n",
        "call_payoff = np.maximum(stock_prices - strike_price_call, 0) - premium_call\n",
        "put_payoff = np.maximum(strike_price_put - stock_prices, 0) - premium_put\n",
        "total_payoff = call_payoff + put_payoff\n",
        "\n",
        "# Breakeven points\n",
        "breakeven_low = strike_price_put - premium_put\n",
        "breakeven_high = strike_price_call + premium_call\n",
        "\n",
        "# Plotting\n",
        "plt.figure(figsize=(10, 6))\n",
        "\n",
        "# Individual payoffs\n",
        "plt.plot(stock_prices, call_payoff, label=\"Call Option Payoff\", linestyle=\"--\")\n",
        "plt.plot(stock_prices, put_payoff, label=\"Put Option Payoff\", linestyle=\"--\")\n",
        "\n",
        "# Total payoff\n",
        "plt.plot(stock_prices, total_payoff, label=\"Total Payoff\", linewidth=2)\n",
        "\n",
        "# Breakeven points\n",
        "plt.axvline(breakeven_low, color='grey', linestyle=':', label=f\"Breakeven Low: {breakeven_low}\")\n",
        "plt.axvline(breakeven_high, color='grey', linestyle=':', label=f\"Breakeven High: {breakeven_high}\")\n",
        "\n",
        "# Axis labels and title\n",
        "plt.xlabel(\"Stock Price at Expiration\")\n",
        "plt.ylabel(\"Profit / Loss\")\n",
        "plt.title(\"Long Strangle Payoff Diagram\")\n",
        "plt.axhline(0, color='black', linewidth=1, linestyle='-')\n",
        "\n",
        "# Legend\n",
        "plt.legend()\n",
        "plt.grid()\n",
        "\n",
        "# Display the plot\n",
        "plt.show()\n",
        "\n",
        "# Explanation of Risks\n",
        "risks = {\n",
        "    \"Limited Profit Potential vs. Unlimited Losses\": \"The maximum loss is limited to the total premiums paid for the options. This occurs if the stock price remains between the two strike prices at expiration.\",\n",
        "    \"High Cost of Entry\": \"Buying two options requires paying two premiums upfront, which increases the cost of entering the position.\",\n",
        "    \"Time Decay (Theta Risk)\": \"Both options lose value as expiration approaches due to time decay, especially if the stock price does not move significantly.\",\n",
        "    \"Volatility Dependence\": \"The strategy depends on high market volatility to move the stock price significantly away from the strike prices.\",\n",
        "    \"Liquidity and Transaction Costs\": \"Wide bid-ask spreads can make it costly to enter or exit the position, especially for less liquid options.\",\n",
        "    \"Breakeven Points\": \"For the strategy to be profitable, the stock price must move beyond the breakeven points (strike prices ± premiums).\",\n",
        "    \"Market Misjudgment\": \"Misjudging the direction or magnitude of the stock price movement can lead to losses.\"\n",
        "}\n",
        "\n",
        "# Print Risks\n",
        "print(\"\\nRisks of the Long Strangle Strategy:\\n\")\n",
        "for risk, description in risks.items():\n",
        "    print(f\"{risk}:\\n    {description}\\n\")\n"
      ]
    }
  ]
}
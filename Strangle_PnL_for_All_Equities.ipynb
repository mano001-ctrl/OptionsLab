{
  "nbformat": 4,
  "nbformat_minor": 0,
  "metadata": {
    "colab": {
      "provenance": []
    },
    "kernelspec": {
      "name": "python3",
      "display_name": "Python 3"
    },
    "language_info": {
      "name": "python"
    }
  },
  "cells": [
    {
      "cell_type": "code",
      "execution_count": null,
      "metadata": {
        "id": "7ojYhHWMMZLZ"
      },
      "outputs": [],
      "source": [
        "import yfinance as yf\n",
        "import pandas as pd\n",
        "import matplotlib.pyplot as plt\n",
        "import numpy as np\n",
        "\n",
        "# Define equities and parameters\n",
        "equities = [\"AAPL\", \"GOOG\", \"NVDA\", \"META\", \"TSLA\"]\n",
        "expiration_date = \"2025-02-23\"  # Example expiration date\n",
        "strike_offset = 0.1  # 10% OTM for both calls and puts\n",
        "premium = 5  # Example premium for each option\n",
        "\n",
        "portfolio = []\n",
        "\n",
        "# Loop through equities to create strangles\n",
        "for equity in equities:\n",
        "    stock = yf.Ticker(equity)\n",
        "    current_price = stock.history(period=\"1d\")[\"Close\"].iloc[-1]\n",
        "\n",
        "    # Calculate strike prices\n",
        "    call_strike = round(current_price * (1 + strike_offset), 2)\n",
        "    put_strike = round(current_price * (1 - strike_offset), 2)\n",
        "\n",
        "    # Create the strangle structure\n",
        "    strangle = {\n",
        "        \"Equity\": equity,\n",
        "        \"Current Price\": round(current_price, 2),\n",
        "        \"Call Strike\": call_strike,\n",
        "        \"Put Strike\": put_strike,\n",
        "        \"Expiration Date\": expiration_date\n",
        "    }\n",
        "    portfolio.append(strangle)\n",
        "\n",
        "# Convert portfolio to a DataFrame\n",
        "portfolio_df = pd.DataFrame(portfolio)\n",
        "print(portfolio_df)\n",
        "\n",
        "# Visualize PnL for all strangles on one plot\n",
        "plt.figure(figsize=(10, 6))\n",
        "\n",
        "for index, row in portfolio_df.iterrows():\n",
        "    equity = row['Equity']\n",
        "    current_price = row['Current Price']\n",
        "    call_strike = row['Call Strike']\n",
        "    put_strike = row['Put Strike']\n",
        "\n",
        "    # Define price range for PnL calculation\n",
        "    price_range = np.linspace(current_price * 0.5, current_price * 1.5, 100)\n",
        "\n",
        "    # Calculate PnL for call and put options\n",
        "    call_pnl = np.maximum(price_range - call_strike, 0) - premium\n",
        "    put_pnl = np.maximum(put_strike - price_range, 0) - premium\n",
        "    total_pnl = call_pnl + put_pnl\n",
        "\n",
        "    # Plot PnL\n",
        "    plt.plot(price_range, total_pnl, label=f\"{equity} Total PnL\")\n",
        "\n",
        "plt.axhline(0, color='black', linestyle='--', linewidth=0.8)\n",
        "plt.title(\"Strangle PnL for All Equities\")\n",
        "plt.xlabel(\"Stock Price at Expiration\")\n",
        "plt.ylabel(\"PnL\")\n",
        "plt.legend()\n",
        "plt.grid()\n",
        "plt.show()\n"
      ]
    }
  ]
}